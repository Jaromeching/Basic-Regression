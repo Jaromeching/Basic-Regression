{
 "cells": [
  {
   "cell_type": "code",
   "execution_count": 1,
   "id": "1b36af01",
   "metadata": {},
   "outputs": [],
   "source": [
    "#https://onezero.blog/modelling-binary-logistic-regression-using-python-research-oriented-modelling-and-interpretation/"
   ]
  },
  {
   "cell_type": "code",
   "execution_count": 2,
   "id": "6b40828c",
   "metadata": {},
   "outputs": [],
   "source": [
    "from sklearn.datasets import make_classification\n",
    "from sklearn.model_selection import train_test_split\n",
    "from sklearn.metrics import confusion_matrix\n",
    "from statsmodels.formula.api import logit\n",
    "import pandas as pd\n",
    "import numpy as np"
   ]
  },
  {
   "cell_type": "code",
   "execution_count": 3,
   "id": "4779a8ae",
   "metadata": {},
   "outputs": [],
   "source": [
    "df = pd.read_csv(r'C:\\Users\\WINDOWS\\OneDrive\\Desktop\\PANDAS PRACTICE\\Pokemon.csv')"
   ]
  },
  {
   "cell_type": "code",
   "execution_count": 4,
   "id": "4aa3dfa5",
   "metadata": {},
   "outputs": [],
   "source": [
    "data = pd.read_csv('LogisticRegression.csv',dtype ={'Legendary':object})"
   ]
  },
  {
   "cell_type": "code",
   "execution_count": 5,
   "id": "1160943f",
   "metadata": {},
   "outputs": [],
   "source": [
    "data.drop('Unnamed: 0', axis = 1 , inplace = True)"
   ]
  },
  {
   "cell_type": "code",
   "execution_count": 6,
   "id": "48c67fb7",
   "metadata": {},
   "outputs": [
    {
     "name": "stdout",
     "output_type": "stream",
     "text": [
      "<class 'pandas.core.frame.DataFrame'>\n",
      "RangeIndex: 800 entries, 0 to 799\n",
      "Data columns (total 4 columns):\n",
      " #   Column     Non-Null Count  Dtype \n",
      "---  ------     --------------  ----- \n",
      " 0   Speed      800 non-null    int64 \n",
      " 1   Defense    800 non-null    int64 \n",
      " 2   Attack     800 non-null    int64 \n",
      " 3   Legendary  800 non-null    object\n",
      "dtypes: int64(3), object(1)\n",
      "memory usage: 25.1+ KB\n"
     ]
    }
   ],
   "source": [
    "data.info()"
   ]
  },
  {
   "cell_type": "code",
   "execution_count": 7,
   "id": "1ed364df",
   "metadata": {},
   "outputs": [],
   "source": [
    "data['Legendary'] = data['Legendary'].map({\"True\":0,\"False\":1})"
   ]
  },
  {
   "cell_type": "code",
   "execution_count": 8,
   "id": "debe23af",
   "metadata": {},
   "outputs": [
    {
     "name": "stdout",
     "output_type": "stream",
     "text": [
      "<class 'pandas.core.frame.DataFrame'>\n",
      "RangeIndex: 800 entries, 0 to 799\n",
      "Data columns (total 4 columns):\n",
      " #   Column     Non-Null Count  Dtype\n",
      "---  ------     --------------  -----\n",
      " 0   Speed      800 non-null    int64\n",
      " 1   Defense    800 non-null    int64\n",
      " 2   Attack     800 non-null    int64\n",
      " 3   Legendary  800 non-null    int64\n",
      "dtypes: int64(4)\n",
      "memory usage: 25.1 KB\n"
     ]
    }
   ],
   "source": [
    "data.info()"
   ]
  },
  {
   "cell_type": "code",
   "execution_count": 9,
   "id": "74e723de",
   "metadata": {},
   "outputs": [],
   "source": [
    "#Split\n",
    "train_data , test_data  = train_test_split(data,test_size = .20 , random_state = 42)"
   ]
  },
  {
   "cell_type": "code",
   "execution_count": 10,
   "id": "a93eac2f",
   "metadata": {},
   "outputs": [],
   "source": [
    "formula = ('Legendary ~ Attack + Defense + Speed')"
   ]
  },
  {
   "cell_type": "code",
   "execution_count": 11,
   "id": "0c79cacc",
   "metadata": {},
   "outputs": [
    {
     "data": {
      "text/html": [
       "<div>\n",
       "<style scoped>\n",
       "    .dataframe tbody tr th:only-of-type {\n",
       "        vertical-align: middle;\n",
       "    }\n",
       "\n",
       "    .dataframe tbody tr th {\n",
       "        vertical-align: top;\n",
       "    }\n",
       "\n",
       "    .dataframe thead th {\n",
       "        text-align: right;\n",
       "    }\n",
       "</style>\n",
       "<table border=\"1\" class=\"dataframe\">\n",
       "  <thead>\n",
       "    <tr style=\"text-align: right;\">\n",
       "      <th></th>\n",
       "      <th>Speed</th>\n",
       "      <th>Defense</th>\n",
       "      <th>Attack</th>\n",
       "      <th>Legendary</th>\n",
       "    </tr>\n",
       "  </thead>\n",
       "  <tbody>\n",
       "    <tr>\n",
       "      <th>0</th>\n",
       "      <td>45</td>\n",
       "      <td>49</td>\n",
       "      <td>49</td>\n",
       "      <td>1</td>\n",
       "    </tr>\n",
       "    <tr>\n",
       "      <th>1</th>\n",
       "      <td>60</td>\n",
       "      <td>63</td>\n",
       "      <td>62</td>\n",
       "      <td>1</td>\n",
       "    </tr>\n",
       "    <tr>\n",
       "      <th>2</th>\n",
       "      <td>80</td>\n",
       "      <td>83</td>\n",
       "      <td>82</td>\n",
       "      <td>1</td>\n",
       "    </tr>\n",
       "    <tr>\n",
       "      <th>3</th>\n",
       "      <td>80</td>\n",
       "      <td>123</td>\n",
       "      <td>100</td>\n",
       "      <td>1</td>\n",
       "    </tr>\n",
       "    <tr>\n",
       "      <th>4</th>\n",
       "      <td>65</td>\n",
       "      <td>43</td>\n",
       "      <td>52</td>\n",
       "      <td>1</td>\n",
       "    </tr>\n",
       "  </tbody>\n",
       "</table>\n",
       "</div>"
      ],
      "text/plain": [
       "   Speed  Defense  Attack  Legendary\n",
       "0     45       49      49          1\n",
       "1     60       63      62          1\n",
       "2     80       83      82          1\n",
       "3     80      123     100          1\n",
       "4     65       43      52          1"
      ]
     },
     "execution_count": 11,
     "metadata": {},
     "output_type": "execute_result"
    }
   ],
   "source": [
    "data.head()"
   ]
  },
  {
   "cell_type": "code",
   "execution_count": 12,
   "id": "48621e8c",
   "metadata": {},
   "outputs": [
    {
     "name": "stdout",
     "output_type": "stream",
     "text": [
      "Optimization terminated successfully.\n",
      "         Current function value: 0.177471\n",
      "         Iterations 9\n"
     ]
    }
   ],
   "source": [
    "#Create Model\n",
    "model = logit(formula = formula , data = data).fit()"
   ]
  },
  {
   "cell_type": "code",
   "execution_count": 13,
   "id": "996338ec",
   "metadata": {},
   "outputs": [
    {
     "data": {
      "text/html": [
       "<table class=\"simpletable\">\n",
       "<caption>Logit Regression Results</caption>\n",
       "<tr>\n",
       "  <th>Dep. Variable:</th>       <td>Legendary</td>    <th>  No. Observations:  </th>  <td>   800</td>  \n",
       "</tr>\n",
       "<tr>\n",
       "  <th>Model:</th>                 <td>Logit</td>      <th>  Df Residuals:      </th>  <td>   796</td>  \n",
       "</tr>\n",
       "<tr>\n",
       "  <th>Method:</th>                 <td>MLE</td>       <th>  Df Model:          </th>  <td>     3</td>  \n",
       "</tr>\n",
       "<tr>\n",
       "  <th>Date:</th>            <td>Fri, 16 Jul 2021</td> <th>  Pseudo R-squ.:     </th>  <td>0.3702</td>  \n",
       "</tr>\n",
       "<tr>\n",
       "  <th>Time:</th>                <td>19:21:36</td>     <th>  Log-Likelihood:    </th> <td> -141.98</td> \n",
       "</tr>\n",
       "<tr>\n",
       "  <th>converged:</th>             <td>True</td>       <th>  LL-Null:           </th> <td> -225.45</td> \n",
       "</tr>\n",
       "<tr>\n",
       "  <th>Covariance Type:</th>     <td>nonrobust</td>    <th>  LLR p-value:       </th> <td>5.810e-36</td>\n",
       "</tr>\n",
       "</table>\n",
       "<table class=\"simpletable\">\n",
       "<tr>\n",
       "      <td></td>         <th>coef</th>     <th>std err</th>      <th>z</th>      <th>P>|z|</th>  <th>[0.025</th>    <th>0.975]</th>  \n",
       "</tr>\n",
       "<tr>\n",
       "  <th>Intercept</th> <td>   11.5219</td> <td>    1.111</td> <td>   10.372</td> <td> 0.000</td> <td>    9.345</td> <td>   13.699</td>\n",
       "</tr>\n",
       "<tr>\n",
       "  <th>Attack</th>    <td>   -0.0213</td> <td>    0.005</td> <td>   -4.174</td> <td> 0.000</td> <td>   -0.031</td> <td>   -0.011</td>\n",
       "</tr>\n",
       "<tr>\n",
       "  <th>Defense</th>   <td>   -0.0328</td> <td>    0.006</td> <td>   -5.810</td> <td> 0.000</td> <td>   -0.044</td> <td>   -0.022</td>\n",
       "</tr>\n",
       "<tr>\n",
       "  <th>Speed</th>     <td>   -0.0492</td> <td>    0.007</td> <td>   -6.940</td> <td> 0.000</td> <td>   -0.063</td> <td>   -0.035</td>\n",
       "</tr>\n",
       "</table>"
      ],
      "text/plain": [
       "<class 'statsmodels.iolib.summary.Summary'>\n",
       "\"\"\"\n",
       "                           Logit Regression Results                           \n",
       "==============================================================================\n",
       "Dep. Variable:              Legendary   No. Observations:                  800\n",
       "Model:                          Logit   Df Residuals:                      796\n",
       "Method:                           MLE   Df Model:                            3\n",
       "Date:                Fri, 16 Jul 2021   Pseudo R-squ.:                  0.3702\n",
       "Time:                        19:21:36   Log-Likelihood:                -141.98\n",
       "converged:                       True   LL-Null:                       -225.45\n",
       "Covariance Type:            nonrobust   LLR p-value:                 5.810e-36\n",
       "==============================================================================\n",
       "                 coef    std err          z      P>|z|      [0.025      0.975]\n",
       "------------------------------------------------------------------------------\n",
       "Intercept     11.5219      1.111     10.372      0.000       9.345      13.699\n",
       "Attack        -0.0213      0.005     -4.174      0.000      -0.031      -0.011\n",
       "Defense       -0.0328      0.006     -5.810      0.000      -0.044      -0.022\n",
       "Speed         -0.0492      0.007     -6.940      0.000      -0.063      -0.035\n",
       "==============================================================================\n",
       "\"\"\""
      ]
     },
     "execution_count": 13,
     "metadata": {},
     "output_type": "execute_result"
    }
   ],
   "source": [
    "#Model Summary\n",
    "model.summary()"
   ]
  },
  {
   "cell_type": "code",
   "execution_count": 14,
   "id": "abfeb71d",
   "metadata": {},
   "outputs": [
    {
     "name": "stdout",
     "output_type": "stream",
     "text": [
      "Intercept    100902.279723\n",
      "Attack            0.978960\n",
      "Defense           0.967688\n",
      "Speed             0.951980\n",
      "dtype: float64\n"
     ]
    }
   ],
   "source": [
    "#ODDs Ratio\n",
    "print(np.exp(model.params))"
   ]
  },
  {
   "cell_type": "code",
   "execution_count": 15,
   "id": "40b291d6",
   "metadata": {},
   "outputs": [],
   "source": [
    "#Marginal Effects Computation\n",
    "AME = model.get_margeff(at = 'Overall' , method ='dydx')"
   ]
  },
  {
   "cell_type": "code",
   "execution_count": 16,
   "id": "ec8a6ef6",
   "metadata": {},
   "outputs": [
    {
     "name": "stdout",
     "output_type": "stream",
     "text": [
      "Average Marginal Effects\n",
      "        Logit Marginal Effects       \n",
      "=====================================\n",
      "Dep. Variable:              Legendary\n",
      "Method:                          dydx\n",
      "At:                           overall\n",
      "==============================================================================\n",
      "                dy/dx    std err          z      P>|z|      [0.025      0.975]\n",
      "------------------------------------------------------------------------------\n",
      "Attack        -0.0011      0.000     -4.384      0.000      -0.002      -0.001\n",
      "Defense       -0.0017      0.000     -6.125      0.000      -0.002      -0.001\n",
      "Speed         -0.0025      0.000     -7.417      0.000      -0.003      -0.002\n",
      "==============================================================================\n"
     ]
    }
   ],
   "source": [
    "print(\"Average Marginal Effects\")\n",
    "print(AME.summary())"
   ]
  },
  {
   "cell_type": "code",
   "execution_count": 17,
   "id": "cbbefca3",
   "metadata": {},
   "outputs": [],
   "source": [
    "#Confusion Matrix\n",
    "import numpy as np\n",
    "from sklearn.metrics import classification_report,accuracy_score"
   ]
  },
  {
   "cell_type": "code",
   "execution_count": 18,
   "id": "cb298809",
   "metadata": {},
   "outputs": [],
   "source": [
    "#Compute Prediction\n",
    "prediction = model.predict(exog = test_data)\n",
    "#Define Cutoff\n",
    "cutoff = 0.5\n",
    "#Compute Class Predictions: y_predictions\n",
    "y_prediction = np.where(prediction > cutoff , 1,0)\n",
    "#Assign actual class labels from the test sample to y_actual\n",
    "y_actual = test_data[\"Legendary\"]\n",
    "#Compute and Print confusion matrix using crosstab function\n",
    "conf_matrix = pd.crosstab(y_actual , y_prediction,\n",
    "                         rownames =['Actual'],\n",
    "                         colnames =['Predicted'],\n",
    "                         margins = True)"
   ]
  },
  {
   "cell_type": "code",
   "execution_count": 19,
   "id": "29f972a4",
   "metadata": {},
   "outputs": [
    {
     "name": "stdout",
     "output_type": "stream",
     "text": [
      "Predicted  0    1  All\n",
      "Actual                \n",
      "0          3    7   10\n",
      "1          4  146  150\n",
      "All        7  153  160\n"
     ]
    }
   ],
   "source": [
    "print(conf_matrix)"
   ]
  },
  {
   "cell_type": "code",
   "execution_count": 20,
   "id": "b0931b45",
   "metadata": {},
   "outputs": [],
   "source": [
    "#Classification Accuracy\n",
    "accuracy = accuracy_score(y_actual,y_prediction)"
   ]
  },
  {
   "cell_type": "code",
   "execution_count": 21,
   "id": "19aff975",
   "metadata": {},
   "outputs": [
    {
     "name": "stdout",
     "output_type": "stream",
     "text": [
      "accuracy=0.931%\n",
      "93.125\n"
     ]
    }
   ],
   "source": [
    "print('accuracy=%.3f' % accuracy + \"%\")\n",
    "print(accuracy * 100)"
   ]
  },
  {
   "cell_type": "code",
   "execution_count": 22,
   "id": "fdfe1683",
   "metadata": {},
   "outputs": [
    {
     "name": "stdout",
     "output_type": "stream",
     "text": [
      "              precision    recall  f1-score   support\n",
      "\n",
      "           0       0.43      0.30      0.35        10\n",
      "           1       0.95      0.97      0.96       150\n",
      "\n",
      "    accuracy                           0.93       160\n",
      "   macro avg       0.69      0.64      0.66       160\n",
      "weighted avg       0.92      0.93      0.93       160\n",
      "\n"
     ]
    }
   ],
   "source": [
    "#Classification Report\n",
    "print(classification_report(y_actual,y_prediction))"
   ]
  },
  {
   "cell_type": "code",
   "execution_count": 3,
   "id": "466f73b4",
   "metadata": {
    "scrolled": false
   },
   "outputs": [
    {
     "name": "stdout",
     "output_type": "stream",
     "text": [
      "done\n"
     ]
    }
   ],
   "source": [
    "print('done')"
   ]
  },
  {
   "cell_type": "code",
   "execution_count": null,
   "id": "b1f78fc1",
   "metadata": {},
   "outputs": [],
   "source": []
  }
 ],
 "metadata": {
  "kernelspec": {
   "display_name": "Python 3",
   "language": "python",
   "name": "python3"
  },
  "language_info": {
   "codemirror_mode": {
    "name": "ipython",
    "version": 3
   },
   "file_extension": ".py",
   "mimetype": "text/x-python",
   "name": "python",
   "nbconvert_exporter": "python",
   "pygments_lexer": "ipython3",
   "version": "3.8.8"
  }
 },
 "nbformat": 4,
 "nbformat_minor": 5
}
